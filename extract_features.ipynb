{
 "cells": [
  {
   "cell_type": "code",
   "execution_count": null,
   "metadata": {},
   "outputs": [],
   "source": [
    "import pickle\n",
    "import cv2\n",
    "import numpy as np\n",
    "from tensorflow.keras.applications import VGG16\n",
    "from tensorflow.keras.applications.vgg16 import preprocess_input"
   ]
  },
  {
   "cell_type": "code",
   "execution_count": 3,
   "metadata": {},
   "outputs": [
    {
     "name": "stdout",
     "output_type": "stream",
     "text": [
      "WARNING:tensorflow:From c:\\Users\\Deep\\AppData\\Local\\Programs\\Python\\Python311\\Lib\\site-packages\\keras\\src\\layers\\pooling\\max_pooling2d.py:161: The name tf.nn.max_pool is deprecated. Please use tf.nn.max_pool2d instead.\n",
      "\n"
     ]
    }
   ],
   "source": [
    "# Load pre-trained VGG16 model without top layers (only feature extraction)\n",
    "vgg16 = VGG16(weights='imagenet', include_top=False, input_shape=(224, 224, 3))\n",
    "\n",
    "# Function to preprocess and extract features from an image\n",
    "def extract_features(image_path, model):\n",
    "    # Load and resize image\n",
    "    image = cv2.imread(image_path)\n",
    "    \n",
    "    if image is None:\n",
    "        print(f\"Error: Unable to read image '{image_path}'\")\n",
    "        return None\n",
    "    image = cv2.resize(image, (224, 224))\n",
    "    image = np.expand_dims(image, axis=0)  # Add batch dimension\n",
    "    image = preprocess_input(image)  # Preprocess image for VGG16\n",
    "    \n",
    "    # Extract features using VGG16\n",
    "    features = model.predict(image)\n",
    "    features_flattened = features.flatten()  # Flatten features to 1D array\n",
    "    return features_flattened\n",
    "\n",
    "# Function to calculate cosine similarity between two feature vectors\n",
    "def calculate_similarity(features1, features2):\n",
    "    similarity = cosine_similarity([features1], [features2])\n",
    "    return similarity[0][0]\n"
   ]
  },
  {
   "cell_type": "code",
   "execution_count": null,
   "metadata": {},
   "outputs": [],
   "source": [
    "import os\n",
    "images_folder = './your_folder'  # Folder containing images\n",
    "# List to store similarity scores and image numbers\n",
    "features = []\n",
    "# Iterate through each image in the folder\n",
    "for filename in os.listdir(images_folder):\n",
    "    if filename.endswith('.jpg') or filename.endswith('.png'):  # Adjust based on image file types\n",
    "        image_path = os.path.join(images_folder, filename)  \n",
    "        # Extract features from the current image\n",
    "        current_features = extract_features(image_path, vgg16)\n",
    "        features.append((current_features, filename)) #saves the image features and the image name\n",
    "\n",
    "#Image name will be helpful to identify the image later\n"
   ]
  },
  {
   "cell_type": "code",
   "execution_count": null,
   "metadata": {},
   "outputs": [],
   "source": [
    "with open('features.pickle', 'wb') as f:\n",
    "    pickle.dump(features, f)"
   ]
  }
 ],
 "metadata": {
  "kernelspec": {
   "display_name": "Python 3",
   "language": "python",
   "name": "python3"
  },
  "language_info": {
   "codemirror_mode": {
    "name": "ipython",
    "version": 3
   },
   "file_extension": ".py",
   "mimetype": "text/x-python",
   "name": "python",
   "nbconvert_exporter": "python",
   "pygments_lexer": "ipython3",
   "version": "3.11.9"
  }
 },
 "nbformat": 4,
 "nbformat_minor": 2
}
